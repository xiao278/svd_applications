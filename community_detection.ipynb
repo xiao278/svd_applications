{
 "cells": [
  {
   "cell_type": "code",
   "execution_count": 2,
   "metadata": {},
   "outputs": [],
   "source": [
    "import numpy as np\n",
    "import rustworkx as rx\n",
    "import networkx as nx\n",
    "import matplotlib.pyplot as plt\n",
    "import ipywidgets as widgets\n",
    "from sklearn.cluster import KMeans\n",
    "from IPython.display import display\n"
   ]
  },
  {
   "cell_type": "code",
   "execution_count": 3,
   "metadata": {},
   "outputs": [
    {
     "name": "stdout",
     "output_type": "stream",
     "text": [
      "int64\n"
     ]
    }
   ],
   "source": [
    "# A = np.array([\n",
    "#     [0,1,1,0,0,0,0,0],\n",
    "#     [1,0,1,1,0,0,0,0],\n",
    "#     [1,1,0,1,0,0,0,0],\n",
    "#     [0,1,1,0,1,0,0,0],\n",
    "#     [0,0,0,1,0,1,0,1],\n",
    "#     [0,0,0,0,1,0,1,0],\n",
    "#     [0,0,0,0,0,1,0,1],\n",
    "#     [0,0,0,0,1,0,1,0]\n",
    "# ], dtype=float)\n",
    "# A = np.array([\n",
    "#     [0,1,1,1],\n",
    "#     [1,0,0,1],\n",
    "#     [1,0,0,0],\n",
    "#     [1,1,0,0]\n",
    "# ])\n",
    "A = np.array([\n",
    "    [0,1,0,1],\n",
    "    [1,0,0,0],\n",
    "    [0,0,0,1],\n",
    "    [1,0,1,0]\n",
    "])\n",
    "D = np.diag(np.sum(A, axis=0)) #find the degree of each node\n",
    "L = D - A\n",
    "n = A.shape[0]\n",
    "print(A.dtype)"
   ]
  },
  {
   "cell_type": "code",
   "execution_count": 4,
   "metadata": {},
   "outputs": [],
   "source": [
    "def draw_digraph(A:np.ndarray):\n",
    "    n = A.shape[0]\n",
    "    G = nx.from_numpy_array(A, create_using=nx.DiGraph)\n",
    "    pos = {}\n",
    "    for node in range(n):\n",
    "        length = 1\n",
    "        angle = 2 * np.pi / n * node + (np.pi / 2)\n",
    "        pos[node] = (-np.cos(angle), np.sin(angle))\n",
    "\n",
    "    plt.figure(figsize=(6, 6))\n",
    "    nx.draw(G, pos, with_labels=True, node_color=\"lightblue\", edge_color=\"black\", arrows=True)\n",
    "\n",
    "    edge_labels = {(i, j): (\"%.2f\" % A[i, j]) for i, j in G.edges()}\n",
    "    nx.draw_networkx_edge_labels(G, pos, edge_labels=edge_labels)\n",
    "\n",
    "def draw_graph(A:np.ndarray, group_labels=None):\n",
    "    n = A.shape[0]\n",
    "    G = nx.from_numpy_array(A, create_using=nx.Graph)\n",
    "    pos = nx.spring_layout(G)\n",
    "    plt.figure(figsize=(6, 6))\n",
    "    if group_labels is None:\n",
    "        nx.draw(G, pos=pos, with_labels=False, node_color=\"lightblue\", edge_color=\"black\")\n",
    "    else:\n",
    "        unique_groups = list(set(group_labels))\n",
    "        colors = plt.cm.get_cmap(\"tab10\", len(unique_groups))\n",
    "        color_map = {group: colors(i) for i, group in enumerate(unique_groups)}\n",
    "        node_colors = [color_map[group_labels[node]] for node in G.nodes]\n",
    "        print(node_colors)\n",
    "        nx.draw(G, pos=pos, with_labels=False, node_color=node_colors, edge_color=\"black\")\n",
    "\n"
   ]
  },
  {
   "cell_type": "code",
   "execution_count": 5,
   "metadata": {},
   "outputs": [],
   "source": [
    "def partition_graph(A:np.ndarray, k=2, print_out=False):\n",
    "    assert k >= 2\n",
    "    D = np.diag(np.sum(A, axis=0)) #find the degree of each node\n",
    "    L = D - A\n",
    "    val, vec = np.linalg.eig(L)\n",
    "    idx = np.argsort(val)[::-1]\n",
    "    val = val[idx]\n",
    "    vec = vec[:,idx]\n",
    "    if (print_out):\n",
    "        print(val)\n",
    "        print(vec)\n",
    "    # print(val)\n",
    "    if k == 2:\n",
    "        partition = vec[:,-2] # the smallest eigenvalue of laplacian is always zero\n",
    "        partition = (partition > 0) * 1\n",
    "        return partition\n",
    "    else:\n",
    "        vectors = vec[:,-k:-1]\n",
    "        model = KMeans(n_clusters=k, random_state=42)\n",
    "        partition = model.fit_predict(vectors)\n",
    "        return partition"
   ]
  },
  {
   "cell_type": "code",
   "execution_count": 6,
   "metadata": {},
   "outputs": [
    {
     "name": "stdout",
     "output_type": "stream",
     "text": [
      "[ 3.41421356e+00  2.00000000e+00  5.85786438e-01 -4.83184279e-17]\n",
      "[[ 0.65328148 -0.5        -0.27059805  0.5       ]\n",
      " [-0.27059805  0.5        -0.65328148  0.5       ]\n",
      " [ 0.27059805  0.5         0.65328148  0.5       ]\n",
      " [-0.65328148 -0.5         0.27059805  0.5       ]]\n",
      "[(0.12156862745098039, 0.4666666666666667, 0.7058823529411765, 1.0), (0.12156862745098039, 0.4666666666666667, 0.7058823529411765, 1.0), (0.09019607843137255, 0.7450980392156863, 0.8117647058823529, 1.0), (0.09019607843137255, 0.7450980392156863, 0.8117647058823529, 1.0)]\n"
     ]
    },
    {
     "name": "stderr",
     "output_type": "stream",
     "text": [
      "/var/folders/wt/rjn2snfs5m9drm826w9lxljw0000gn/T/ipykernel_2407/1112701547.py:25: MatplotlibDeprecationWarning: The get_cmap function was deprecated in Matplotlib 3.7 and will be removed two minor releases later. Use ``matplotlib.colormaps[name]`` or ``matplotlib.colormaps.get_cmap(obj)`` instead.\n",
      "  colors = plt.cm.get_cmap(\"tab10\", len(unique_groups))\n"
     ]
    },
    {
     "data": {
      "image/png": "[encoded data removed]",
      "text/plain": [
       "<Figure size 600x600 with 1 Axes>"
      ]
     },
     "metadata": {},
     "output_type": "display_data"
    }
   ],
   "source": [
    "partition = partition_graph(A,2,True)\n",
    "draw_graph(A, partition)"
   ]
  },
  {
   "cell_type": "code",
   "execution_count": 7,
   "metadata": {},
   "outputs": [
    {
     "name": "stdout",
     "output_type": "stream",
     "text": [
      "[5.23606798 3.41421356 0.58578644 0.76393202]\n",
      "[[ 0.68819096  0.65328148]\n",
      " [ 0.16245985  0.27059805]\n",
      " [ 0.16245985 -0.27059805]\n",
      " [ 0.68819096 -0.65328148]]\n"
     ]
    }
   ],
   "source": [
    "mat = L.T * L\n",
    "val, vec = np.linalg.eig(mat)\n",
    "print(val)\n",
    "print(vec[:,0:2])"
   ]
  },
  {
   "cell_type": "code",
   "execution_count": null,
   "metadata": {},
   "outputs": [],
   "source": []
  }
 ],
 "metadata": {
  "kernelspec": {
   "display_name": "Python 3",
   "language": "python",
   "name": "python3"
  },
  "language_info": {
   "codemirror_mode": {
    "name": "ipython",
    "version": 3
   },
   "file_extension": ".py",
   "mimetype": "text/x-python",
   "name": "python",
   "nbconvert_exporter": "python",
   "pygments_lexer": "ipython3",
   "version": "3.11.10"
  }
 },
 "nbformat": 4,
 "nbformat_minor": 2
}
